{
  "nbformat": 4,
  "nbformat_minor": 0,
  "metadata": {
    "colab": {
      "provenance": [],
      "authorship_tag": "ABX9TyPHU9GAsjBib3HmzYxx5Y1u",
      "include_colab_link": true
    },
    "kernelspec": {
      "name": "python3",
      "display_name": "Python 3"
    },
    "language_info": {
      "name": "python"
    }
  },
  "cells": [
    {
      "cell_type": "markdown",
      "metadata": {
        "id": "view-in-github",
        "colab_type": "text"
      },
      "source": [
        "<a href=\"https://colab.research.google.com/github/ezekielibe/AI-Engineering-Concepts/blob/master/Working_with_HuggingFace.ipynb\" target=\"_parent\"><img src=\"https://colab.research.google.com/assets/colab-badge.svg\" alt=\"Open In Colab\"/></a>"
      ]
    },
    {
      "cell_type": "markdown",
      "source": [
        "**Exploring Models Programmatically with HuggingFace**\n",
        "\n"
      ],
      "metadata": {
        "id": "9U4u1LmT7YkE"
      }
    },
    {
      "cell_type": "code",
      "source": [
        "pip install huggingface_hub"
      ],
      "metadata": {
        "colab": {
          "base_uri": "https://localhost:8080/"
        },
        "id": "J5yJ6wKN7rCr",
        "outputId": "be554fdd-ffc6-4d23-d2d2-511e01843868"
      },
      "execution_count": null,
      "outputs": [
        {
          "output_type": "stream",
          "name": "stdout",
          "text": [
            "Requirement already satisfied: huggingface_hub in /usr/local/lib/python3.11/dist-packages (0.30.2)\n",
            "Requirement already satisfied: filelock in /usr/local/lib/python3.11/dist-packages (from huggingface_hub) (3.18.0)\n",
            "Requirement already satisfied: fsspec>=2023.5.0 in /usr/local/lib/python3.11/dist-packages (from huggingface_hub) (2025.3.2)\n",
            "Requirement already satisfied: packaging>=20.9 in /usr/local/lib/python3.11/dist-packages (from huggingface_hub) (24.2)\n",
            "Requirement already satisfied: pyyaml>=5.1 in /usr/local/lib/python3.11/dist-packages (from huggingface_hub) (6.0.2)\n",
            "Requirement already satisfied: requests in /usr/local/lib/python3.11/dist-packages (from huggingface_hub) (2.32.3)\n",
            "Requirement already satisfied: tqdm>=4.42.1 in /usr/local/lib/python3.11/dist-packages (from huggingface_hub) (4.67.1)\n",
            "Requirement already satisfied: typing-extensions>=3.7.4.3 in /usr/local/lib/python3.11/dist-packages (from huggingface_hub) (4.13.2)\n",
            "Requirement already satisfied: charset-normalizer<4,>=2 in /usr/local/lib/python3.11/dist-packages (from requests->huggingface_hub) (3.4.1)\n",
            "Requirement already satisfied: idna<4,>=2.5 in /usr/local/lib/python3.11/dist-packages (from requests->huggingface_hub) (3.10)\n",
            "Requirement already satisfied: urllib3<3,>=1.21.1 in /usr/local/lib/python3.11/dist-packages (from requests->huggingface_hub) (2.4.0)\n",
            "Requirement already satisfied: certifi>=2017.4.17 in /usr/local/lib/python3.11/dist-packages (from requests->huggingface_hub) (2025.4.26)\n"
          ]
        }
      ]
    },
    {
      "cell_type": "code",
      "source": [
        "from huggingface_hub import HfApi\n",
        "\n",
        "api = HfApi()\n",
        "models = list(api.list_models(limit=3))\n",
        "print(models)"
      ],
      "metadata": {
        "id": "K5H9EJo17uac",
        "outputId": "f59938f0-57f7-43f0-915e-6c40e97eb97f",
        "colab": {
          "base_uri": "https://localhost:8080/"
        }
      },
      "execution_count": 1,
      "outputs": [
        {
          "output_type": "stream",
          "name": "stdout",
          "text": [
            "[ModelInfo(id='deepseek-ai/DeepSeek-Prover-V2-671B', author=None, sha=None, created_at=datetime.datetime(2025, 4, 30, 6, 14, 35, tzinfo=datetime.timezone.utc), last_modified=None, private=False, disabled=None, downloads=3471, downloads_all_time=None, gated=None, gguf=None, inference=None, inference_provider_mapping=None, likes=688, library_name='transformers', tags=['transformers', 'safetensors', 'deepseek_v3', 'text-generation', 'conversational', 'custom_code', 'autotrain_compatible', 'text-generation-inference', 'endpoints_compatible', 'fp8', 'region:us'], pipeline_tag='text-generation', mask_token=None, card_data=None, widget_data=None, model_index=None, config=None, transformers_info=None, trending_score=688, siblings=None, spaces=None, safetensors=None, security_repo_status=None, xet_enabled=None), ModelInfo(id='nari-labs/Dia-1.6B', author=None, sha=None, created_at=datetime.datetime(2025, 4, 20, 5, 36, 20, tzinfo=datetime.timezone.utc), last_modified=None, private=False, disabled=None, downloads=127648, downloads_all_time=None, gated=None, gguf=None, inference=None, inference_provider_mapping=None, likes=1865, library_name=None, tags=['safetensors', 'model_hub_mixin', 'pytorch_model_hub_mixin', 'text-to-speech', 'en', 'arxiv:2305.09636', 'license:apache-2.0', 'region:us'], pipeline_tag='text-to-speech', mask_token=None, card_data=None, widget_data=None, model_index=None, config=None, transformers_info=None, trending_score=397, siblings=None, spaces=None, safetensors=None, security_repo_status=None, xet_enabled=None), ModelInfo(id='Qwen/Qwen3-235B-A22B', author=None, sha=None, created_at=datetime.datetime(2025, 4, 27, 3, 53, 46, tzinfo=datetime.timezone.utc), last_modified=None, private=False, disabled=None, downloads=42751, downloads_all_time=None, gated=None, gguf=None, inference=None, inference_provider_mapping=None, likes=697, library_name='transformers', tags=['transformers', 'safetensors', 'qwen3_moe', 'text-generation', 'conversational', 'arxiv:2309.00071', 'license:apache-2.0', 'autotrain_compatible', 'endpoints_compatible', 'region:us'], pipeline_tag='text-generation', mask_token=None, card_data=None, widget_data=None, model_index=None, config=None, transformers_info=None, trending_score=325, siblings=None, spaces=None, safetensors=None, security_repo_status=None, xet_enabled=None)]\n"
          ]
        },
        {
          "output_type": "stream",
          "name": "stderr",
          "text": [
            "/usr/local/lib/python3.11/dist-packages/huggingface_hub/utils/_auth.py:94: UserWarning: \n",
            "The secret `HF_TOKEN` does not exist in your Colab secrets.\n",
            "To authenticate with the Hugging Face Hub, create a token in your settings tab (https://huggingface.co/settings/tokens), set it as secret in your Google Colab and restart your session.\n",
            "You will be able to reuse this secret in all of your notebooks.\n",
            "Please note that authentication is recommended but still optional to access public models or datasets.\n",
            "  warnings.warn(\n"
          ]
        }
      ]
    },
    {
      "cell_type": "markdown",
      "source": [
        "**Running a Basic Pipeline**"
      ],
      "metadata": {
        "id": "kB91FqkJ8bo1"
      }
    },
    {
      "cell_type": "code",
      "source": [
        "from transformers import pipeline\n",
        "\n",
        "my_pipeline = pipeline(\n",
        "    task=\"text-classification\",\n",
        "    model=\"distilbert-base-uncased-finetuned-sst-2-english\"\n",
        ")\n",
        "\n",
        "print(my_pipeline(\"DataCamp is awesome\"))"
      ],
      "metadata": {
        "id": "5KXPeQDf7_4V"
      },
      "execution_count": null,
      "outputs": []
    },
    {
      "cell_type": "code",
      "source": [],
      "metadata": {
        "id": "ALvMgBfA-ftR"
      },
      "execution_count": null,
      "outputs": []
    }
  ]
}